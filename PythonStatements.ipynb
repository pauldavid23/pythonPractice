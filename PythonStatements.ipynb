{
 "cells": [
  {
   "cell_type": "code",
   "execution_count": 7,
   "metadata": {},
   "outputs": [
    {
     "name": "stdout",
     "output_type": "stream",
     "text": [
      "The President number 3 is Thomas Jefferson\n"
     ]
    }
   ],
   "source": [
    "pres = 3; \n",
    "\n",
    "if pres == 1:\n",
    "    print(f' The President number {pres} George Washington')\n",
    "elif pres == 2: \n",
    "    print(f'The President number {pres} John Adams')\n",
    "elif pres == 3: \n",
    "    print (f'The President number {pres} is Thomas Jefferson')\n",
    "else:\n",
    "    print('Invalid input!')"
   ]
  },
  {
   "cell_type": "code",
   "execution_count": 10,
   "metadata": {},
   "outputs": [],
   "source": [
    "thelist = [1,2,3,4,4,5,5,6,67,7,7,4,4,3,3,2]"
   ]
  },
  {
   "cell_type": "code",
   "execution_count": 11,
   "metadata": {},
   "outputs": [
    {
     "name": "stdout",
     "output_type": "stream",
     "text": [
      "1\n",
      "2\n",
      "3\n",
      "4\n",
      "4\n",
      "5\n",
      "5\n",
      "6\n",
      "67\n",
      "7\n",
      "7\n",
      "4\n",
      "4\n",
      "3\n",
      "3\n",
      "2\n"
     ]
    }
   ],
   "source": [
    "for mylist in thelist:\n",
    "    print(mylist)\n"
   ]
  },
  {
   "cell_type": "code",
   "execution_count": 11,
   "metadata": {},
   "outputs": [],
   "source": [
    "goats = [1,2,3,4,5,6,7,8,9,10]\n",
    "    "
   ]
  },
  {
   "cell_type": "code",
   "execution_count": 12,
   "metadata": {},
   "outputs": [
    {
     "name": "stdout",
     "output_type": "stream",
     "text": [
      "Number not even: 1\n",
      "2\n",
      "Number not even: 3\n",
      "4\n",
      "Number not even: 5\n",
      "6\n",
      "Number not even: 7\n",
      "8\n",
      "Number not even: 9\n",
      "10\n"
     ]
    }
   ],
   "source": [
    "for star in goats:\n",
    "    if star % 2 == 0:\n",
    "        print(star)\n",
    "    else:\n",
    "        print(f'Number not even: {star}')"
   ]
  },
  {
   "cell_type": "code",
   "execution_count": 13,
   "metadata": {},
   "outputs": [],
   "source": [
    "tupleunpack = [(3,5), ('Lebron', 'James'), ('Michael', 'Jordan')]"
   ]
  },
  {
   "cell_type": "code",
   "execution_count": 14,
   "metadata": {},
   "outputs": [
    {
     "name": "stdout",
     "output_type": "stream",
     "text": [
      "3\n",
      "Lebron\n",
      "Michael\n"
     ]
    }
   ],
   "source": [
    "for a,b in tupleunpack:\n",
    "    print(a)"
   ]
  },
  {
   "cell_type": "code",
   "execution_count": 21,
   "metadata": {},
   "outputs": [
    {
     "name": "stdout",
     "output_type": "stream",
     "text": [
      "L\n",
      "b\n",
      "r\n",
      "n\n",
      "J\n",
      "m\n",
      "s\n",
      "s\n",
      "t\n",
      "h\n",
      "g\n",
      "r\n",
      "t\n",
      "s\n",
      "t\n",
      "f\n",
      "l\n",
      "l\n",
      "t\n",
      "m\n"
     ]
    }
   ],
   "source": [
    "disemvoweltrolls = 'LebronJamesisthegreatestofalltime'\n",
    "\n",
    "for _ in disemvoweltrolls:\n",
    "    if _ == 'a':\n",
    "        continue\n",
    "    elif _ == 'e':\n",
    "        continue\n",
    "    elif _ == 'i': \n",
    "        continue\n",
    "    elif _ == 'o': \n",
    "        continue\n",
    "    elif _ == 'u': \n",
    "        continue\n",
    "    print(_)\n",
    "            "
   ]
  },
  {
   "cell_type": "code",
   "execution_count": 5,
   "metadata": {},
   "outputs": [
    {
     "name": "stdout",
     "output_type": "stream",
     "text": [
      "0\n",
      "2\n",
      "4\n",
      "6\n",
      "8\n"
     ]
    }
   ],
   "source": [
    "number = 0\n",
    "\n",
    "while number < 10:\n",
    "    if number % 2 == 0:\n",
    "        print(number)\n",
    "    number += 1"
   ]
  },
  {
   "cell_type": "code",
   "execution_count": null,
   "metadata": {},
   "outputs": [],
   "source": []
  }
 ],
 "metadata": {
  "kernelspec": {
   "display_name": "Python 3",
   "language": "python",
   "name": "python3"
  },
  "language_info": {
   "codemirror_mode": {
    "name": "ipython",
    "version": 3
   },
   "file_extension": ".py",
   "mimetype": "text/x-python",
   "name": "python",
   "nbconvert_exporter": "python",
   "pygments_lexer": "ipython3",
   "version": "3.7.4"
  }
 },
 "nbformat": 4,
 "nbformat_minor": 2
}
